{
 "cells": [
  {
   "cell_type": "code",
   "execution_count": 3,
   "id": "ddfaa1ab-2537-4e5d-acac-239ba07de598",
   "metadata": {},
   "outputs": [
    {
     "name": "stdout",
     "output_type": "stream",
     "text": [
      "Data has been saved\n"
     ]
    }
   ],
   "source": [
    "import requests\n",
    "import pandas as pd\n",
    "from bs4 import BeautifulSoup\n",
    "from selenium import webdriver\n",
    "import chromedriver_autoinstaller\n",
    "\n",
    "chromedriver_autoinstaller.install()\n",
    "browser = webdriver.Chrome()\n",
    "\n",
    "browser.get('https://iblindonesia.com/profile/team/126036')\n",
    "soup = BeautifulSoup(browser.page_source, 'lxml')\n",
    "\n",
    "player_list = soup.find(id='playerList')\n",
    "\n",
    "body = player_list.find('tbody')\n",
    "\n",
    "data = []\n",
    "for row in body.find_all('tr'):\n",
    "    height = row.find('th', scope='row').text\n",
    "    columns = row.find_all('td')\n",
    "    \n",
    "    shirt_number = columns[0].text.strip()\n",
    "    player = columns[1].text.strip()\n",
    "    position = columns[2].text.strip()\n",
    "    \n",
    "    dt = {\n",
    "        'Height': height,\n",
    "        'Shirt Number': shirt_number,\n",
    "        'Player': player,\n",
    "        'Position': position,\n",
    "        }\n",
    "    data.append(dt)\n",
    "\n",
    "browser.quit()\n",
    "\n",
    "pd.DataFrame(data, columns=['Height', 'Shirt Number', 'Player', 'Position']).to_csv('Pelita Jaya.csv', index=False)\n",
    "\n",
    "print('Data has been saved')"
   ]
  },
  {
   "cell_type": "code",
   "execution_count": null,
   "id": "95e9fd06-fb9a-46c4-917d-d0bfc6b151e6",
   "metadata": {},
   "outputs": [],
   "source": []
  }
 ],
 "metadata": {
  "kernelspec": {
   "display_name": "Python 3 (ipykernel)",
   "language": "python",
   "name": "python3"
  },
  "language_info": {
   "codemirror_mode": {
    "name": "ipython",
    "version": 3
   },
   "file_extension": ".py",
   "mimetype": "text/x-python",
   "name": "python",
   "nbconvert_exporter": "python",
   "pygments_lexer": "ipython3",
   "version": "3.9.12"
  }
 },
 "nbformat": 4,
 "nbformat_minor": 5
}
